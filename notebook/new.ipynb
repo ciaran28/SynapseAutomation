{
 "cells": [
  {
   "cell_type": "code",
   "execution_count": null,
   "metadata": {},
   "outputs": [],
   "source": [
    "print(\"test\")"
   ]
  }
 ],
 "metadata": {
  "kernelspec": {
   "display_name": "Python 3.10.5 64-bit",
   "language": "python",
   "name": "python3"
  },
  "language_info": {
   "name": "python",
   "version": "3.10.5"
  },
  "orig_nbformat": 4,
  "vscode": {
   "interpreter": {
    "hash": "7cb25bae0a4dfe2e1e5bdb930c477055c2617a8d1ec06ff7e0af720f16e54af2"
   }
  }
 },
 "nbformat": 4,
 "nbformat_minor": 2
}
