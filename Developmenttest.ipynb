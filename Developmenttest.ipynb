{
    "cells": [
        {
            "cell_type": "code",
            "execution_count": null,
            "metadata": {
                "jupyter": {
                    "outputs_hidden": false,
                    "source_hidden": false
                },
                "nteract": {
                    "transient": {
                        "deleting": false
                    }
                }
            },
            "outputs": [],
            "source": [
                "\n",
                "dictionary_json = { \n",
                "    \"SubscriptionId\": \"4f1bc772-7792-4285-99d9-3463b8d7f994\",\n",
                "    \"Location\": \"uksouth\", \n",
                "    \"TemplateParamFilePath\":\"Infrastructure/DBX_CICD_Deployment/Bicep_Params/Development/Bicep.parameters.json\",\n",
                "    \"TemplateFilePath\":\"Infrastructure/DBX_CICD_Deployment/Main_DBX_CICD.bicep\",\n",
                "    \"AZURE_DATABRICKS_APP_ID\": \"2ff814a6-3304-4ab8-85cb-cd0e6f879c1d\",\n",
                "    \"MANAGEMENT_RESOURCE_ENDPOINT\": \"https://management.core.windows.net/\",\n",
                "    \"Clusters\": [\n",
                "        {\n",
                "            \"cluster_name\": \"dbx-sp-cluster\",\n",
                "            \"spark_version\": \"10.4.x-scala2.12\",\n",
                "            \"node_type_id\": \"Standard_D3_v2\",\n",
                "            \"spark_conf\": {},\n",
                "            \"autotermination_minutes\": 30,\n",
                "            \"runtime_engine\": \"STANDARD\",\n",
                "            \"autoscale\": {\n",
                "                \"min_workers\": 2,\n",
                "                \"max_workers\": 4\n",
                "            }\n",
                "        },\n",
                "        {\n",
                "            \"cluster_name\": \"dbx-sp-cluster2\",\n",
                "            \"spark_version\": \"10.4.x-scala2.12\",\n",
                "            \"node_type_id\": \"Standard_D3_v2\",\n",
                "            \"spark_conf\": {},\n",
                "            \"autotermination_minutes\": 30,\n",
                "            \"runtime_engine\": \"STANDARD\",\n",
                "            \"autoscale\": {\n",
                "                \"min_workers\": 2,\n",
                "                \"max_workers\": 4\n",
                "            }\n",
                "        }\n",
                "    ],\n",
                "} \n",
                "\n"
            ]
        },
        {
            "cell_type": "code",
            "execution_count": null,
            "metadata": {
                "jupyter": {
                    "outputs_hidden": false,
                    "source_hidden": false
                },
                "nteract": {
                    "transient": {
                        "deleting": false
                    }
                }
            },
            "outputs": [],
            "source": [
                "import json \n",
                "import os"
            ]
        },
        {
            "cell_type": "code",
            "execution_count": null,
            "metadata": {
                "jupyter": {
                    "outputs_hidden": false,
                    "source_hidden": false
                },
                "nteract": {
                    "transient": {
                        "deleting": false
                    }
                }
            },
            "outputs": [],
            "source": [
                "cur_path = os.path.dirname(__file__)\n",
                "new_file = os.path.join(cur_path, 'Development.json')"
            ]
        },
        {
            "cell_type": "code",
            "execution_count": null,
            "metadata": {
                "jupyter": {
                    "outputs_hidden": false,
                    "source_hidden": false
                },
                "nteract": {
                    "transient": {
                        "deleting": false
                    }
                }
            },
            "outputs": [],
            "source": []
        }
    ],
    "metadata": {
        "kernelspec": {
            "display_name": "Python 3.8.8 64-bit",
            "language": "python",
            "name": "python3"
        },
        "language_info": {
            "name": "python",
            "version": "3.8.8"
        },
        "save_output": true,
        "vscode": {
            "interpreter": {
                "hash": "23a07931de5012aeb41e8a628df8d99b4c5d1bdc30ebc0693cc3af847a18917f"
            }
        }
    },
    "nbformat": 4,
    "nbformat_minor": 2
}
